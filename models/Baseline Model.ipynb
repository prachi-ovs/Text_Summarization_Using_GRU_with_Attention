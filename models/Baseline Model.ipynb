{
  "nbformat": 4,
  "nbformat_minor": 0,
  "metadata": {
    "colab": {
      "name": "Final_RNN.ipynb",
      "provenance": [],
      "collapsed_sections": []
    },
    "kernelspec": {
      "display_name": "Python 3",
      "language": "python",
      "name": "python3"
    },
    "language_info": {
      "codemirror_mode": {
        "name": "ipython",
        "version": 3
      },
      "file_extension": ".py",
      "mimetype": "text/x-python",
      "name": "python",
      "nbconvert_exporter": "python",
      "pygments_lexer": "ipython3",
      "version": "3.7.6"
    },
    "pycharm": {
      "stem_cell": {
        "cell_type": "raw",
        "metadata": {
          "collapsed": false
        },
        "source": []
      }
    },
    "accelerator": "GPU"
  },
  "cells": [
    {
      "cell_type": "markdown",
      "metadata": {
        "id": "-QH4dosxiwpN"
      },
      "source": [
        "# Compendium\n",
        "A text summarizer based on Attention mechanism"
      ]
    },
    {
      "cell_type": "markdown",
      "metadata": {
        "id": "MJ7r9bdUiwpO"
      },
      "source": [
        "### Import required library\n",
        "The cell below import required library, we will be using torchtext for preprocessing as it does all the prossing for us. "
      ]
    },
    {
      "cell_type": "code",
      "metadata": {
        "id": "KomZiVigiwpP"
      },
      "source": [
        "#import required library\n",
        "import math\n",
        "import dill\n",
        "\n",
        "import spacy\n",
        "import seaborn as sns\n",
        "import matplotlib.ticker as ticker\n",
        "\n",
        "import torch\n",
        "from torch import nn\n",
        "from torch import optim\n",
        "import torch.nn.functional as F\n",
        "\n",
        "from torchtext.datasets import TranslationDataset\n",
        "from torchtext.data import Field, BucketIterator, TabularDataset\n",
        "\n",
        "import time\n",
        "import random\n",
        "\n",
        "from helper import *\n",
        "\n",
        "#set device tp cuda if gpu available\n",
        "device = torch.device('cuda' if torch.cuda.is_available() else 'cpu')"
      ],
      "execution_count": null,
      "outputs": []
    },
    {
      "cell_type": "markdown",
      "metadata": {
        "id": "viQnAO2TiwpP"
      },
      "source": [
        "### Torchtext Field\n",
        "Initlizing Field for our source and target feature. using,\n",
        "1. spacy tokenizer for tokenization. It will use deafult lang for spacy tokenizer ie. English. \n",
        "2. defined start of sting and end of string token `<sos>` & `<eos>` respectively. \n",
        "3. Further will be using packing of input so for source field changed `include_length` to `True`."
      ]
    },
    {
      "cell_type": "code",
      "metadata": {
        "id": "WnnH1Mv-iwpP"
      },
      "source": [
        "### initlize Field for source article and target summary\n",
        "ARTICLE = Field(tokenize='spacy',\n",
        "                init_token='<sos>',\n",
        "                eos_token='<eos>',\n",
        "                lower=True,\n",
        "                include_lengths=True\n",
        "                )\n",
        "SUMMARY = Field(tokenize='spacy',\n",
        "                init_token='<sos>',\n",
        "                eos_token='<eos>',\n",
        "                lower=True,\n",
        "                )"
      ],
      "execution_count": null,
      "outputs": []
    },
    {
      "cell_type": "code",
      "metadata": {
        "colab": {
          "base_uri": "https://localhost:8080/"
        },
        "id": "GshPfXlaj98W",
        "outputId": "543da31b-b7f4-4329-c479-1b5f65e15112"
      },
      "source": [
        "from google.colab import drive\r\n",
        "drive.mount('/content/drive')"
      ],
      "execution_count": null,
      "outputs": [
        {
          "output_type": "stream",
          "text": [
            "Drive already mounted at /content/drive; to attempt to forcibly remount, call drive.mount(\"/content/drive\", force_remount=True).\n"
          ],
          "name": "stdout"
        }
      ]
    },
    {
      "cell_type": "markdown",
      "metadata": {
        "id": "6txTACx0iwpQ"
      },
      "source": [
        "### Load dataset\n",
        "Used TabularDataset for loading train, test and validation dataset."
      ]
    },
    {
      "cell_type": "code",
      "metadata": {
        "id": "KIbLh_qZiwpQ"
      },
      "source": [
        "#load train, test, val data\n",
        "train_data, valid_data, test_data = TabularDataset.splits(\n",
        "                                                    path=r'/content/drive/My Drive//Ga Ga Megha/',\n",
        "                                                    train='train1.csv',\n",
        "                                                    validation='val1.csv',\n",
        "                                                    test='test1.csv', \n",
        "                                                    format='csv',\n",
        "                                                    fields=[(\"text\",ARTICLE),('headline',SUMMARY)]\n",
        "                                                        )"
      ],
      "execution_count": null,
      "outputs": []
    },
    {
      "cell_type": "code",
      "metadata": {
        "id": "cx6wQ9EyiwpQ"
      },
      "source": [
        "#set up vocab for article and summary from train data.\n",
        "ARTICLE.build_vocab(train_data, min_freq=2)\n",
        "SUMMARY.build_vocab(train_data, min_freq=2)"
      ],
      "execution_count": null,
      "outputs": []
    },
    {
      "cell_type": "markdown",
      "metadata": {
        "id": "6lJl6yBLiwpQ"
      },
      "source": [
        "### Checkpoint I\n",
        "Saving article and summary Field for further use."
      ]
    },
    {
      "cell_type": "code",
      "metadata": {
        "id": "qDjG_VcSiwpR"
      },
      "source": [
        "#Save article and summary field as loading it takes around 3-4 mins\n",
        "with open(r'/content/drive/My Drive//Ga Ga Megha/ARTICLE1.Field1',\"wb\")as f:\n",
        "     dill.dump(ARTICLE,f)\n",
        "with open(r'/content/drive/My Drive//Ga Ga Megha/SUMMARY1.Field1',\"wb\")as f:\n",
        "     dill.dump(SUMMARY,f)"
      ],
      "execution_count": null,
      "outputs": []
    },
    {
      "cell_type": "markdown",
      "metadata": {
        "id": "Sp1GlK0MiwpR"
      },
      "source": [
        "### DataIterator\n",
        "setting up dataloader using BucketIterator. BuketIterator is used because it group data such that minium padding is required."
      ]
    },
    {
      "cell_type": "code",
      "metadata": {
        "id": "0d3FY4lMiwpR"
      },
      "source": [
        "#Get train, valid, and test itterator\n",
        "BATCH_SIZE = 128\n",
        "\n",
        "train_loader, valid_loader, test_loader = BucketIterator.splits(\n",
        "                                                            (train_data, valid_data, test_data),\n",
        "                                                            batch_size=BATCH_SIZE,\n",
        "                                                            sort_within_batch=True,\n",
        "                                                            sort_key = lambda x:len(x.text),\n",
        "                                                            device=device\n",
        "                                                                )"
      ],
      "execution_count": null,
      "outputs": []
    },
    {
      "cell_type": "markdown",
      "metadata": {
        "id": "D81ChSMjiwpR"
      },
      "source": [
        "## Model\n",
        "Creating encoder decoder seq2seq model using Attention. \n",
        "1. It will take a seq of text ie. article, and pass it through encdoder and produce a list of hidden states in each time step. \n",
        "2. The list of hidden layer will be input to the decoder layer along with token `<sos>` and hidden states.\n",
        "3. The attention will take current decoder hidden state and a list of encoder hidden states, calculates score and create context vector based on score.\n",
        "4. The context vector and ouput of decoder rnn will be concatinated and passed to afully contected feed forward layer to generate ouput.\n",
        "5. steps 2, 3, 4 will be repeated unitl either max len is achieved or `<eos>` is predicted."
      ]
    },
    {
      "cell_type": "markdown",
      "metadata": {
        "id": "IRhzRSTZiwpR"
      },
      "source": [
        "### Encoder\n",
        "Passes seq of string to budirection GRU to encode it into vectors."
      ]
    },
    {
      "cell_type": "code",
      "metadata": {
        "id": "turc6VzCiwpS"
      },
      "source": [
        "#Encoder class, encodes article to vector\n",
        "\n",
        "class Encoder(nn.Module):\n",
        "    \n",
        "    \n",
        "    def __init__(self, vocab, embeding_dim, encoder_hidden_dim, decoder_hidden_dim, dropout):\n",
        "        super().__init__()\n",
        "        \n",
        "        self.embedding = nn.Embedding(vocab, embeding_dim)\n",
        "        self.rnn = nn.RNN(embeding_dim, encoder_hidden_dim, bidirectional = True)\n",
        "        self.fc = nn.Linear(encoder_hidden_dim*2, decoder_hidden_dim)\n",
        "        \n",
        "        self.dropout = nn.Dropout(p=dropout)\n",
        "   \n",
        "\n",
        "    def forward(self, text, text_len):\n",
        "        embedded = self.dropout(self.embedding(text))\n",
        "        packed_embedded = nn.utils.rnn.pack_padded_sequence(embedded, text_len.cpu())\n",
        "        packed_outputs, hidden = self.rnn(packed_embedded) \n",
        "        outputs, _ = nn.utils.rnn.pad_packed_sequence(packed_outputs)\n",
        "        hidden = torch.tanh(self.fc(torch.cat((hidden[-2,:,:], hidden[-1,:,:]), dim = 1)))\n",
        "        \n",
        "        return outputs, hidden"
      ],
      "execution_count": null,
      "outputs": []
    },
    {
      "cell_type": "markdown",
      "metadata": {
        "id": "SwgHWdUoiwpS"
      },
      "source": [
        "### Attention Mechanism\n",
        "Takes encoder hidden layer and decoder hidden layer, scores it and return context vector."
      ]
    },
    {
      "cell_type": "code",
      "metadata": {
        "id": "CgX6t03eiwpS"
      },
      "source": [
        "# Attention machanism to take encoder hidden states and current decoder state and generate context vector\n",
        "class Attention(nn.Module):\n",
        "    \n",
        "    \n",
        "    def __init__(self, enc_hid_dim, dec_hid_dim ):\n",
        "        super().__init__()\n",
        "        self.attn = nn.Linear((enc_hid_dim * 2) + dec_hid_dim, dec_hid_dim)\n",
        "        self.v = nn.Linear(dec_hid_dim, 1, bias = False)\n",
        "    \n",
        "\n",
        "    def forward(self, hidden, encoder_outputs, mask):      \n",
        "        batch_size = encoder_outputs.shape[1]\n",
        "        src_len = encoder_outputs.shape[0]\n",
        "        \n",
        "        hidden = hidden.unsqueeze(1).repeat(1, src_len, 1)        \n",
        "        encoder_outputs = encoder_outputs.permute(1, 0, 2)\n",
        "        \n",
        "        energy = torch.tanh(self.attn(torch.cat((hidden, encoder_outputs), dim = 2))) \n",
        "        \n",
        "        attention = self.v(energy).squeeze(2)\n",
        "        attention = attention.masked_fill(mask == 0, -1e10)\n",
        "        \n",
        "        return F.softmax(attention, dim = 1)"
      ],
      "execution_count": null,
      "outputs": []
    },
    {
      "cell_type": "markdown",
      "metadata": {
        "id": "3uzEztf3iwpS"
      },
      "source": [
        "### Decoder\n",
        "Decoder model takes encoder hidden states and (t-1) input ang generate output with attention mech."
      ]
    },
    {
      "cell_type": "code",
      "metadata": {
        "id": "sLlRq4tTiwpT"
      },
      "source": [
        "class Decoder(nn.Module):\n",
        "    def __init__(self, output_dim, emb_dim, enc_hid_dim, dec_hid_dim, dropout, attention):\n",
        "        super().__init__()\n",
        "        \n",
        "        self.output_dim = output_dim\n",
        "        self.attention = attention\n",
        "        \n",
        "        self.embedding = nn.Embedding(output_dim, emb_dim)        \n",
        "        self.rnn = nn.RNN((enc_hid_dim * 2) + emb_dim, dec_hid_dim)\n",
        "        self.fc_out = nn.Linear((enc_hid_dim * 2) + dec_hid_dim + emb_dim, output_dim)        \n",
        "        \n",
        "        self.dropout = nn.Dropout(dropout)\n",
        "        \n",
        "    def forward(self, input_, hidden, encoder_outputs, mask):\n",
        "    \n",
        "        input_ = input_.unsqueeze(0)\n",
        "        embedded = self.dropout(self.embedding(input_))\n",
        "\n",
        "        atten = self.attention(hidden, encoder_outputs, mask)        \n",
        "        atten = atten.unsqueeze(1)\n",
        "        \n",
        "        encoder_outputs = encoder_outputs.permute(1, 0, 2)\n",
        "        weighted = torch.bmm(atten, encoder_outputs)\n",
        "        \n",
        "        weighted = weighted.permute(1, 0, 2)        \n",
        "        rnn_input_ = torch.cat((embedded, weighted), dim = 2)\n",
        "            \n",
        "        output, hidden = self.rnn(rnn_input_, hidden.unsqueeze(0))\n",
        "              \n",
        "        embedded = embedded.squeeze(0)\n",
        "        output = output.squeeze(0)\n",
        "        weighted = weighted.squeeze(0)\n",
        "        \n",
        "        prediction = self.fc_out(torch.cat((output, weighted, embedded), dim = 1))\n",
        "        \n",
        "        return prediction, hidden.squeeze(0), atten.squeeze(1)"
      ],
      "execution_count": null,
      "outputs": []
    },
    {
      "cell_type": "markdown",
      "metadata": {
        "id": "wn5IBjjbiwpT"
      },
      "source": [
        "### Seq2Seq Model\n",
        "Encapsulate Encoder Decor model."
      ]
    },
    {
      "cell_type": "code",
      "metadata": {
        "id": "iVb2rtbYiwpT"
      },
      "source": [
        "class Seq2Seq(nn.Module):\n",
        "    def __init__(self, encoder, decoder, text_pad_idx, device):\n",
        "        super().__init__()\n",
        "        \n",
        "        self.encoder = encoder\n",
        "        self.decoder = decoder\n",
        "        self.text_pad_idx = text_pad_idx\n",
        "        self.device = device\n",
        "        \n",
        "    def create_mask(self, text):\n",
        "        mask = (text != self.text_pad_idx).permute(1, 0)\n",
        "        return mask\n",
        "        \n",
        "    def forward(self, text, text_len, headline, teacher_forcing_ratio = 0.5):\n",
        "        batch_size = text.shape[1]\n",
        "        headline_len = headline.shape[0]\n",
        "        headline_vocab_size = self.decoder.output_dim\n",
        "\n",
        "        outputs = torch.zeros(headline_len, batch_size, headline_vocab_size).to(self.device)\n",
        "      \n",
        "        encoder_outputs, hidden = self.encoder(text, text_len)\n",
        "       \n",
        "        input_ = headline[0,:]\n",
        "        \n",
        "        mask = self.create_mask(text)\n",
        "                \n",
        "        for t in range(1, headline_len):\n",
        "            \n",
        "            output, hidden, _ = self.decoder(input_, hidden, encoder_outputs, mask)           \n",
        "            outputs[t] = output\n",
        "            teacher_force = random.random() < teacher_forcing_ratio            \n",
        "            top1 = output.argmax(1)             \n",
        "            input_ = headline[t] if teacher_force else top1\n",
        "            \n",
        "        return outputs"
      ],
      "execution_count": null,
      "outputs": []
    },
    {
      "cell_type": "markdown",
      "metadata": {
        "id": "SoEnOs63iwpU"
      },
      "source": [
        "Loading saved article and summary fields. "
      ]
    },
    {
      "cell_type": "code",
      "metadata": {
        "id": "b0QuUuYniwpU"
      },
      "source": [
        "#load saved artucle and summary field \n",
        "#only run in case of new or kernal restart\n",
        "\n",
        "with open(r'/content/drive/My Drive//Ga Ga Megha/ARTICLE1.Field1',\"rb\")as f:\n",
        "     ARTICLE=dill.load(f)\n",
        "with open(r'/content/drive/My Drive//Ga Ga Megha/SUMMARY1.Field1',\"rb\")as f:\n",
        "     SUMMARY=dill.load(f)"
      ],
      "execution_count": null,
      "outputs": []
    },
    {
      "cell_type": "markdown",
      "metadata": {
        "id": "AkWheoOKiwpU"
      },
      "source": [
        "### Model Initilization \n",
        "Initilize model with parameters "
      ]
    },
    {
      "cell_type": "code",
      "metadata": {
        "id": "jv648kyxiwpU"
      },
      "source": [
        "# model parameters, dimension kept less due to memory issue.\n",
        "\n",
        "INPUT_DIM = len(ARTICLE.vocab)\n",
        "OUTPUT_DIM = len(SUMMARY.vocab)\n",
        "ENC_EMB_DIM = 256\n",
        "DEC_EMB_DIM = 256\n",
        "ENC_HID_DIM = 512\n",
        "DEC_HID_DIM = 512\n",
        "ENC_DROPOUT = 0.5\n",
        "DEC_DROPOUT = 0.5\n",
        "ARTICLE_PAD_IDX = ARTICLE.vocab.stoi[ARTICLE.pad_token]\n",
        "\n",
        "attn = Attention(ENC_HID_DIM, DEC_HID_DIM)\n",
        "enc = Encoder(INPUT_DIM, ENC_EMB_DIM, ENC_HID_DIM, DEC_HID_DIM, ENC_DROPOUT)\n",
        "dec = Decoder(OUTPUT_DIM, DEC_EMB_DIM, ENC_HID_DIM, DEC_HID_DIM, DEC_DROPOUT, attn)\n",
        "\n",
        "model = Seq2Seq(enc, dec, ARTICLE_PAD_IDX, device).to(device)"
      ],
      "execution_count": null,
      "outputs": []
    },
    {
      "cell_type": "code",
      "metadata": {
        "colab": {
          "base_uri": "https://localhost:8080/"
        },
        "id": "BvrCJSVWiwpU",
        "scrolled": true,
        "outputId": "1151e492-af4c-4ea5-f629-6b7d70e4e4d4"
      },
      "source": [
        "print(model)"
      ],
      "execution_count": null,
      "outputs": [
        {
          "output_type": "stream",
          "text": [
            "Seq2Seq(\n",
            "  (encoder): Encoder(\n",
            "    (embedding): Embedding(50732, 256)\n",
            "    (rnn): RNN(256, 512, bidirectional=True)\n",
            "    (fc): Linear(in_features=1024, out_features=512, bias=True)\n",
            "    (dropout): Dropout(p=0.5, inplace=False)\n",
            "  )\n",
            "  (decoder): Decoder(\n",
            "    (attention): Attention(\n",
            "      (attn): Linear(in_features=1536, out_features=512, bias=True)\n",
            "      (v): Linear(in_features=512, out_features=1, bias=False)\n",
            "    )\n",
            "    (embedding): Embedding(21423, 256)\n",
            "    (rnn): RNN(1280, 512)\n",
            "    (fc_out): Linear(in_features=1792, out_features=21423, bias=True)\n",
            "    (dropout): Dropout(p=0.5, inplace=False)\n",
            "  )\n",
            ")\n"
          ],
          "name": "stdout"
        }
      ]
    },
    {
      "cell_type": "code",
      "metadata": {
        "id": "ss0_yeBPKFaL"
      },
      "source": [
        "torch.save(model.state_dict(), 'checkpoint.pth')\r\n",
        "\r\n",
        "# download checkpoint file\r\n",
        "#files.download('checkpoint.pth')"
      ],
      "execution_count": null,
      "outputs": []
    },
    {
      "cell_type": "code",
      "metadata": {
        "colab": {
          "base_uri": "https://localhost:8080/"
        },
        "id": "kmiFw_AfKJe8",
        "outputId": "e80517a4-abb1-49e9-e19a-8c0a0c1011ca"
      },
      "source": [
        "state_dict = torch.load('checkpoint.pth')\r\n",
        "print(state_dict.keys())"
      ],
      "execution_count": null,
      "outputs": [
        {
          "output_type": "stream",
          "text": [
            "odict_keys(['encoder.embedding.weight', 'encoder.rnn.weight_ih_l0', 'encoder.rnn.weight_hh_l0', 'encoder.rnn.bias_ih_l0', 'encoder.rnn.bias_hh_l0', 'encoder.rnn.weight_ih_l0_reverse', 'encoder.rnn.weight_hh_l0_reverse', 'encoder.rnn.bias_ih_l0_reverse', 'encoder.rnn.bias_hh_l0_reverse', 'encoder.fc.weight', 'encoder.fc.bias', 'decoder.attention.attn.weight', 'decoder.attention.attn.bias', 'decoder.attention.v.weight', 'decoder.embedding.weight', 'decoder.rnn.weight_ih_l0', 'decoder.rnn.weight_hh_l0', 'decoder.rnn.bias_ih_l0', 'decoder.rnn.bias_hh_l0', 'decoder.fc_out.weight', 'decoder.fc_out.bias'])\n"
          ],
          "name": "stdout"
        }
      ]
    },
    {
      "cell_type": "code",
      "metadata": {
        "colab": {
          "base_uri": "https://localhost:8080/"
        },
        "id": "J4EDqYTJKMYk",
        "outputId": "25a3ce36-9ee7-4d35-87fa-f238a4bf5550"
      },
      "source": [
        "model.load_state_dict(state_dict)"
      ],
      "execution_count": null,
      "outputs": [
        {
          "output_type": "execute_result",
          "data": {
            "text/plain": [
              "<All keys matched successfully>"
            ]
          },
          "metadata": {
            "tags": []
          },
          "execution_count": 40
        }
      ]
    },
    {
      "cell_type": "code",
      "metadata": {
        "id": "I0yC45jQKPOB"
      },
      "source": [
        "def load_checkpoint(filepath):\r\n",
        "    checkpoint = torch.load(filepath)\r\n",
        "    model = fc_model.Network(checkpoint['input_size'],\r\n",
        "                             checkpoint['output_size'],\r\n",
        "                             checkpoint['hidden_layers'])\r\n",
        "    model.load_state_dict(checkpoint['state_dict'])\r\n",
        "    \r\n",
        "    return model"
      ],
      "execution_count": null,
      "outputs": []
    },
    {
      "cell_type": "code",
      "metadata": {
        "id": "tILHAMqrKitD"
      },
      "source": [
        "# checkpoint = {'input_size': 784,\r\n",
        "#               'output_size': 10,\r\n",
        "#               'hidden_layers': [each.out_features for each in model.hidden_layers],\r\n",
        "#               'state_dict': model.state_dict()}\r\n",
        "\r\n",
        "# torch.save(checkpoint, 'checkpoint.pth')"
      ],
      "execution_count": null,
      "outputs": []
    },
    {
      "cell_type": "code",
      "metadata": {
        "id": "nh2Vt4p1KwDl"
      },
      "source": [
        "# model = load_checkpoint('checkpoint.pth')\r\n",
        "# print(model)"
      ],
      "execution_count": null,
      "outputs": []
    },
    {
      "cell_type": "markdown",
      "metadata": {
        "id": "llyW7YGSiwpV"
      },
      "source": [
        "###  Optimizer and Cost Function"
      ]
    },
    {
      "cell_type": "code",
      "metadata": {
        "id": "j9ZvsZ3iiwpV"
      },
      "source": [
        "#setup optimizer for training model\n",
        "\n",
        "optimizer = optim.Adam(model.parameters())"
      ],
      "execution_count": null,
      "outputs": []
    },
    {
      "cell_type": "code",
      "metadata": {
        "id": "G77SC1_ViwpV"
      },
      "source": [
        "#setiup loss function ignoring pad index\n",
        "\n",
        "SUMMARY_PAD_IDX = SUMMARY.vocab.stoi[SUMMARY.pad_token]\n",
        "\n",
        "criterion = nn.CrossEntropyLoss(ignore_index = SUMMARY_PAD_IDX)"
      ],
      "execution_count": null,
      "outputs": []
    },
    {
      "cell_type": "markdown",
      "metadata": {
        "id": "mzcHJgbSiwpV"
      },
      "source": [
        "#### Training and Evalution functions"
      ]
    },
    {
      "cell_type": "code",
      "metadata": {
        "id": "ZNTWUarNiwpV"
      },
      "source": [
        "#function to train model\n",
        "def train(model, iterator, optimizer, criterion, clip):\n",
        "    \n",
        "    model.train()\n",
        "    \n",
        "    epoch_loss = 0\n",
        "    \n",
        "    for i, batch in enumerate(iterator):\n",
        "        \n",
        "        text, text_len = batch.text\n",
        "        headline = batch.headline\n",
        "        \n",
        "        optimizer.zero_grad()\n",
        "        \n",
        "        output = model(text, text_len, headline)\n",
        "        \n",
        "        #trg = [trg len, batch size]\n",
        "        #output = [trg len, batch size, output dim]\n",
        "        \n",
        "        output_dim = output.shape[-1]\n",
        "        \n",
        "        output = output[1:].view(-1, output_dim)\n",
        "        headline = headline[1:].view(-1)\n",
        "        \n",
        "        #trg = [(trg len - 1) * batch size]\n",
        "        #output = [(trg len - 1) * batch size, output dim]\n",
        "        \n",
        "        loss = criterion(output, headline)\n",
        "        \n",
        "        loss.backward()\n",
        "        \n",
        "        torch.nn.utils.clip_grad_norm_(model.parameters(), clip)\n",
        "        \n",
        "        optimizer.step()\n",
        "        \n",
        "        epoch_loss += loss.item()\n",
        "        \n",
        "    return epoch_loss / len(iterator)"
      ],
      "execution_count": null,
      "outputs": []
    },
    {
      "cell_type": "code",
      "metadata": {
        "id": "75iBUmloiwpW"
      },
      "source": [
        "#functio to retuen val loss\n",
        "def evaluate(model, iterator, criterion):\n",
        "    \n",
        "    model.eval()\n",
        "    \n",
        "    epoch_loss = 0\n",
        "    \n",
        "    with torch.no_grad():\n",
        "    \n",
        "        for i, batch in enumerate(iterator):\n",
        "\n",
        "            text, text_len = batch.text\n",
        "            headline = batch.headline\n",
        "\n",
        "            output = model(text, text_len, headline, 0) #turn off teacher forcing\n",
        "            \n",
        "            #headline = [headline len, batch size]\n",
        "            #output = [headline len, batch size, output dim]\n",
        "\n",
        "            output_dim = output.shape[-1]\n",
        "            \n",
        "            output = output[1:].view(-1, output_dim)\n",
        "            headline = headline[1:].view(-1)\n",
        "\n",
        "            #headline = [(headline len - 1) * batch size]\n",
        "            #output = [(headline len - 1) * batch size, output dim]\n",
        "\n",
        "            loss = criterion(output, headline)\n",
        "\n",
        "            epoch_loss += loss.item()\n",
        "        \n",
        "    return epoch_loss / len(iterator)"
      ],
      "execution_count": null,
      "outputs": []
    },
    {
      "cell_type": "markdown",
      "metadata": {
        "id": "j_yV3CfuiwpW"
      },
      "source": [
        "#### Training Model\n",
        "Modl trainig and saving best fitted model"
      ]
    },
    {
      "cell_type": "code",
      "metadata": {
        "id": "rxgxzkh_iwpW",
        "colab": {
          "base_uri": "https://localhost:8080/"
        },
        "outputId": "2c81c9bf-81d7-4298-9f7b-852918999a0e"
      },
      "source": [
        "# trainig model\n",
        "\n",
        "N_EPOCHS = 10\n",
        "#N_EPOCHS = 25\n",
        "CLIP = 1\n",
        "\n",
        "best_valid_loss = float('inf')\n",
        "\n",
        "for epoch in range(N_EPOCHS):\n",
        "    \n",
        "    start_time = time.time()\n",
        "    \n",
        "    train_loss = train(model, train_loader, optimizer, criterion, CLIP)\n",
        "    valid_loss = evaluate(model, valid_loader, criterion)\n",
        "    \n",
        "    end_time = time.time()\n",
        "    \n",
        "    #epoch_mins, epoch_secs = epoch_time(start_time, end_time)\n",
        "    \n",
        "    if valid_loss < best_valid_loss:\n",
        "        best_valid_loss = valid_loss\n",
        "        torch.save(model.state_dict(), r'/content/drive/My Drive//Ga Ga Megha/model1.brain')\n",
        "    \n",
        "    print(f'Epoch: {epoch+1:2}')\n",
        "          #| Time: {epoch_mins}m {epoch_secs}s')\n",
        "    print(f'\\tTrain Loss: {train_loss:.3f} | Train PPL: {math.exp(train_loss):7.3f}')\n",
        "    print(f'\\t Val. Loss: {valid_loss:.3f} |  Val. PPL: {math.exp(valid_loss):7.3f}')"
      ],
      "execution_count": null,
      "outputs": [
        {
          "output_type": "stream",
          "text": [
            "Epoch:  1\n",
            "\tTrain Loss: 6.444 | Train PPL: 628.926\n",
            "\t Val. Loss: 5.662 |  Val. PPL: 287.752\n",
            "Epoch:  2\n",
            "\tTrain Loss: 5.363 | Train PPL: 213.428\n",
            "\t Val. Loss: 4.969 |  Val. PPL: 143.859\n",
            "Epoch:  3\n",
            "\tTrain Loss: 4.766 | Train PPL: 117.431\n",
            "\t Val. Loss: 4.596 |  Val. PPL:  99.128\n",
            "Epoch:  4\n",
            "\tTrain Loss: 4.380 | Train PPL:  79.846\n",
            "\t Val. Loss: 4.363 |  Val. PPL:  78.481\n",
            "Epoch:  5\n",
            "\tTrain Loss: 4.091 | Train PPL:  59.815\n",
            "\t Val. Loss: 4.257 |  Val. PPL:  70.611\n",
            "Epoch:  6\n",
            "\tTrain Loss: 3.895 | Train PPL:  49.180\n",
            "\t Val. Loss: 4.105 |  Val. PPL:  60.636\n",
            "Epoch:  7\n",
            "\tTrain Loss: 3.730 | Train PPL:  41.667\n",
            "\t Val. Loss: 4.039 |  Val. PPL:  56.782\n",
            "Epoch:  8\n",
            "\tTrain Loss: 3.594 | Train PPL:  36.397\n",
            "\t Val. Loss: 3.969 |  Val. PPL:  52.949\n",
            "Epoch:  9\n",
            "\tTrain Loss: 3.498 | Train PPL:  33.043\n",
            "\t Val. Loss: 3.915 |  Val. PPL:  50.139\n",
            "Epoch: 10\n",
            "\tTrain Loss: 3.398 | Train PPL:  29.912\n",
            "\t Val. Loss: 3.880 |  Val. PPL:  48.441\n"
          ],
          "name": "stdout"
        }
      ]
    },
    {
      "cell_type": "markdown",
      "metadata": {
        "id": "nsDxfhjliwpW"
      },
      "source": [
        "#### Load best fitted model"
      ]
    },
    {
      "cell_type": "code",
      "metadata": {
        "colab": {
          "base_uri": "https://localhost:8080/"
        },
        "id": "ZJkI7FxLiwpW",
        "outputId": "354222e1-6b29-4a43-fb61-a38e7d6e69dd"
      },
      "source": [
        "#load best fitted model and calculate test loss\n",
        "model.load_state_dict(torch.load(r'/content/drive/My Drive//Ga Ga Megha/model1.brain', map_location=device))\n",
        "\n",
        "test_loss = evaluate(model, test_loader, criterion)\n",
        "\n",
        "print(f'| Test Loss: {test_loss:.3f} | Test PPL: {math.exp(test_loss):7.3f} |')"
      ],
      "execution_count": null,
      "outputs": [
        {
          "output_type": "stream",
          "text": [
            "| Test Loss: 3.876 | Test PPL:  48.232 |\n"
          ],
          "name": "stdout"
        }
      ]
    },
    {
      "cell_type": "markdown",
      "metadata": {
        "id": "XY1EUKjjiwpX"
      },
      "source": [
        "## Prediction\n",
        "Predicting generated summary along with its attention matrix"
      ]
    },
    {
      "cell_type": "code",
      "metadata": {
        "id": "h7xAdN-yiwpX"
      },
      "source": [
        "#function to dengerate summary from saved model\n",
        "def predict(sentence, src_field, trg_field, model, device, max_len = 50):\n",
        "\n",
        "    model.eval()\n",
        "        \n",
        "    if sentence is str:\n",
        "        nlp = spacy.load('en')\n",
        "        tokens = [token.text.lower() for token in nlp(sentence)]\n",
        "    else:\n",
        "        tokens = [token.lower() for token in sentence]\n",
        "\n",
        "    tokens = [src_field.init_token] + tokens + [src_field.eos_token]        \n",
        "    src_indexes = [src_field.vocab.stoi[token] for token in tokens]\n",
        "    \n",
        "    src_tensor = torch.LongTensor(src_indexes).unsqueeze(1).to(device)\n",
        "    src_len = torch.LongTensor([len(src_indexes)]).to(device)\n",
        "    \n",
        "    with torch.no_grad():\n",
        "        encoder_outputs, hidden = model.encoder(src_tensor, src_len)\n",
        "\n",
        "    mask = model.create_mask(src_tensor)        \n",
        "    trg_indexes = [trg_field.vocab.stoi[trg_field.init_token]]\n",
        "    attentions = torch.zeros(max_len, 1, len(src_indexes)).to(device)\n",
        "    \n",
        "    for i in range(max_len):\n",
        "\n",
        "        trg_tensor = torch.LongTensor([trg_indexes[-1]]).to(device)\n",
        "        \n",
        "        with torch.no_grad():\n",
        "            output, hidden, attention = model.decoder(trg_tensor, hidden, encoder_outputs, mask)\n",
        "\n",
        "        attentions[i] = attention            \n",
        "        pred_token = output.argmax(1).item()        \n",
        "        trg_indexes.append(pred_token)\n",
        "\n",
        "        if pred_token == trg_field.vocab.stoi[trg_field.eos_token]:\n",
        "            break\n",
        "    \n",
        "    trg_tokens = [trg_field.vocab.itos[i] for i in trg_indexes]\n",
        "    \n",
        "    return trg_tokens[1:], attentions[:len(trg_tokens)-1]"
      ],
      "execution_count": null,
      "outputs": []
    },
    {
      "cell_type": "code",
      "metadata": {
        "id": "9mHDr8FGiwpX"
      },
      "source": [
        "# function to plot attention scores\n",
        "from matplotlib import pyplot as plt\n",
        "\n",
        "def plot_attention(sentence, translation, attention):\n",
        "    \n",
        "    fig = plt.figure(figsize=(30,30))\n",
        "    \n",
        "    attention = attention.squeeze(1).cpu().detach().numpy()\n",
        "    \n",
        "    cax = sns.heatmap(attention,cmap='gray', cbar=False, square=True,\\\n",
        "                     yticklabels=translation,xticklabels=sentence) \n",
        "    cax.set_yticklabels(cax.get_yticklabels(), rotation = 0, fontsize = 20)\n",
        "    cax.set_xticklabels(cax.get_xticklabels(), rotation = 90, fontsize = 20)\n"
      ],
      "execution_count": null,
      "outputs": []
    },
    {
      "cell_type": "markdown",
      "metadata": {
        "id": "qqy6Jo45iwpX"
      },
      "source": [
        "####  Prdiction for random index"
      ]
    },
    {
      "cell_type": "code",
      "metadata": {
        "id": "dmTu5xYSiwpX",
        "colab": {
          "base_uri": "https://localhost:8080/",
          "height": 346
        },
        "outputId": "45947716-0c93-4f02-bb6e-066b792b63ae"
      },
      "source": [
        "#testing\n",
        "example_idx = 60\n",
        "\n",
        "bold_start, bold_end = \"\\033[1m\", \"\\033[0;0m\"\n",
        "text = vars(test_data.examples[example_idx])['text']\n",
        "headline = vars(test_data.examples[example_idx])['headline']\n",
        "\n",
        "print(f'{bold_start}Text{bold_end} = {\" \".join(word for word in text)}\\n')\n",
        "print(f'{bold_start}Headline{bold_end} = {\" \".join(word for word in headline)}\\n')\n",
        "\n",
        "prediction, attention = predict(text, ARTICLE, SUMMARY, model, device)\n",
        "\n",
        "print(f'{bold_start}Predicted Headline{bold_end} = {\" \".join(word for word in prediction)}')\n",
        "print(\"\\n\\t\\t\\t\\t\\t\\t\\tAttention Plot\")\n",
        "plot_attention(text, prediction, attention)"
      ],
      "execution_count": null,
      "outputs": [
        {
          "output_type": "stream",
          "text": [
            "\u001b[1mText\u001b[0;0m = john bailey , the president of the academy of motion picture arts and sciences , the body which hands out the oscars has been accused of sexual harassment . the academy has reportedly opened an investigation after receiving three harassment claims against him . \" we will not comment further on such matters until the full review is completed , \" the academy said in a statement .\n",
            "\n",
            "\u001b[1mHeadline\u001b[0;0m = oscars chief john bailey accused of sexual harassment\n",
            "\n",
            "\u001b[1mPredicted Headline\u001b[0;0m = oscars of bailey bailey accused of sexual harassment <eos>\n",
            "\n",
            "\t\t\t\t\t\t\tAttention Plot\n"
          ],
          "name": "stdout"
        },
        {
          "output_type": "display_data",
          "data": {
            "image/png": "[encoded data removed]",
            "text/plain": [
              "<Figure size 2160x2160 with 1 Axes>"
            ]
          },
          "metadata": {
            "tags": [],
            "needs_background": "light"
          }
        }
      ]
    },
    {
      "cell_type": "code",
      "metadata": {
        "id": "P6J9PgR2iwpX",
        "colab": {
          "base_uri": "https://localhost:8080/",
          "height": 382
        },
        "outputId": "c44003bf-02c7-4e11-ef6b-e29d805dea92"
      },
      "source": [
        "example_idx = 1\n",
        "\n",
        "bold_start, bold_end = \"\\033[1m\", \"\\033[0;0m\"\n",
        "text = vars(test_data.examples[example_idx])['text']\n",
        "headline = vars(test_data.examples[example_idx])['headline']\n",
        "\n",
        "print(f'{bold_start}Text{bold_end} = {\" \".join(word for word in text)}\\n')\n",
        "print(f'{bold_start}Headline{bold_end} = {\" \".join(word for word in headline)}\\n')\n",
        "\n",
        "prediction, attention = predict(text, ARTICLE, SUMMARY, model, device)\n",
        "\n",
        "print(f'{bold_start}Predicted Headline{bold_end} = {\" \".join(word for word in prediction)}')\n",
        "print(\"\\n\\t\\t\\t\\t\\t\\t\\tAttention Plot\")\n",
        "plot_attention(text, prediction, attention)"
      ],
      "execution_count": null,
      "outputs": [
        {
          "output_type": "stream",
          "text": [
            "\u001b[1mText\u001b[0;0m = us president donald trump has accused \" fake media \" and \" dishonest people \" of not reporting his criticism of hatred and white supremacy in response to the virginia violence which killed one woman . addressing a rally in the us city of phoenix , he further accused the media of \" not liking the us \" and providing a platform to hate groups .\n",
            "\n",
            "\u001b[1mHeadline\u001b[0;0m = ' fake media ' did not report my criticism of hatred : trump\n",
            "\n",
            "\u001b[1mPredicted Headline\u001b[0;0m = fake fake fake media not not criticism of hatred : trump <eos>\n",
            "\n",
            "\t\t\t\t\t\t\tAttention Plot\n"
          ],
          "name": "stdout"
        },
        {
          "output_type": "display_data",
          "data": {
            "image/png": "[encoded data removed]",
            "text/plain": [
              "<Figure size 2160x2160 with 1 Axes>"
            ]
          },
          "metadata": {
            "tags": [],
            "needs_background": "light"
          }
        }
      ]
    },
    {
      "cell_type": "code",
      "metadata": {
        "id": "EOsRL4cyiwpX"
      },
      "source": [
        ""
      ],
      "execution_count": null,
      "outputs": []
    }
  ]
}