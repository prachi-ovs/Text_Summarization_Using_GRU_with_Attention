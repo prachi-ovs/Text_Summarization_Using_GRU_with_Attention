{
  "nbformat": 4,
  "nbformat_minor": 0,
  "metadata": {
    "colab": {
      "name": "Final_GRU.ipynb",
      "provenance": [],
      "collapsed_sections": [],
      "toc_visible": true
    },
    "kernelspec": {
      "display_name": "Python 3",
      "language": "python",
      "name": "python3"
    },
    "language_info": {
      "codemirror_mode": {
        "name": "ipython",
        "version": 3
      },
      "file_extension": ".py",
      "mimetype": "text/x-python",
      "name": "python",
      "nbconvert_exporter": "python",
      "pygments_lexer": "ipython3",
      "version": "3.7.6"
    },
    "pycharm": {
      "stem_cell": {
        "cell_type": "raw",
        "metadata": {
          "collapsed": false
        },
        "source": []
      }
    },
    "accelerator": "GPU"
  },
  "cells": [
    {
      "cell_type": "markdown",
      "metadata": {
        "id": "-QH4dosxiwpN"
      },
      "source": [
        "\n",
        "A text summarizer based on Attention mechanism"
      ]
    },
    {
      "cell_type": "code",
      "metadata": {
        "id": "hS2fDjqV4oA_"
      },
      "source": [
        "import numpy as np\r\n",
        "import pandas as pd\r\n",
        "import seaborn as sns\r\n",
        "import os\r\n",
        "from sklearn.model_selection import train_test_split"
      ],
      "execution_count": 6,
      "outputs": []
    },
    {
      "cell_type": "markdown",
      "metadata": {
        "id": "MJ7r9bdUiwpO"
      },
      "source": [
        "### Import required library\n",
        "The cell below import required library, we will be using torchtext for preprocessing as it does all the prossing for us. "
      ]
    },
    {
      "cell_type": "markdown",
      "metadata": {
        "id": "n6SSyyiT4roZ"
      },
      "source": [
        "Importing data from Google Drive"
      ]
    },
    {
      "cell_type": "code",
      "metadata": {
        "colab": {
          "base_uri": "https://localhost:8080/"
        },
        "id": "SE9xCe-K4vlz",
        "outputId": "e1f2a3c9-c9ea-4387-854b-897c64007897"
      },
      "source": [
        "from google.colab import drive\r\n",
        "drive.mount('/content/drive')"
      ],
      "execution_count": 7,
      "outputs": [
        {
          "output_type": "stream",
          "text": [
            "Mounted at /content/drive\n"
          ],
          "name": "stdout"
        }
      ]
    },
    {
      "cell_type": "code",
      "metadata": {
        "colab": {
          "base_uri": "https://localhost:8080/",
          "height": 204
        },
        "id": "UsFpVToA4x28",
        "outputId": "bad42d9b-0bd1-4883-e6d0-0b85a68e1da9"
      },
      "source": [
        "data = pd.read_csv(r'/content/drive/MyDrive/ColabNotebooks/BigDataProject/news_summary_more.csv')\r\n",
        "data.head()"
      ],
      "execution_count": 8,
      "outputs": [
        {
          "output_type": "execute_result",
          "data": {
            "text/html": [
              "<div>\n",
              "<style scoped>\n",
              "    .dataframe tbody tr th:only-of-type {\n",
              "        vertical-align: middle;\n",
              "    }\n",
              "\n",
              "    .dataframe tbody tr th {\n",
              "        vertical-align: top;\n",
              "    }\n",
              "\n",
              "    .dataframe thead th {\n",
              "        text-align: right;\n",
              "    }\n",
              "</style>\n",
              "<table border=\"1\" class=\"dataframe\">\n",
              "  <thead>\n",
              "    <tr style=\"text-align: right;\">\n",
              "      <th></th>\n",
              "      <th>headlines</th>\n",
              "      <th>text</th>\n",
              "    </tr>\n",
              "  </thead>\n",
              "  <tbody>\n",
              "    <tr>\n",
              "      <th>0</th>\n",
              "      <td>upGrad learner switches to career in ML &amp; Al w...</td>\n",
              "      <td>Saurav Kant, an alumnus of upGrad and IIIT-B's...</td>\n",
              "    </tr>\n",
              "    <tr>\n",
              "      <th>1</th>\n",
              "      <td>Delhi techie wins free food from Swiggy for on...</td>\n",
              "      <td>Kunal Shah's credit card bill payment platform...</td>\n",
              "    </tr>\n",
              "    <tr>\n",
              "      <th>2</th>\n",
              "      <td>New Zealand end Rohit Sharma-led India's 12-ma...</td>\n",
              "      <td>New Zealand defeated India by 8 wickets in the...</td>\n",
              "    </tr>\n",
              "    <tr>\n",
              "      <th>3</th>\n",
              "      <td>Aegon life iTerm insurance plan helps customer...</td>\n",
              "      <td>With Aegon Life iTerm Insurance plan, customer...</td>\n",
              "    </tr>\n",
              "    <tr>\n",
              "      <th>4</th>\n",
              "      <td>Have known Hirani for yrs, what if MeToo claim...</td>\n",
              "      <td>Speaking about the sexual harassment allegatio...</td>\n",
              "    </tr>\n",
              "  </tbody>\n",
              "</table>\n",
              "</div>"
            ],
            "text/plain": [
              "                                           headlines                                               text\n",
              "0  upGrad learner switches to career in ML & Al w...  Saurav Kant, an alumnus of upGrad and IIIT-B's...\n",
              "1  Delhi techie wins free food from Swiggy for on...  Kunal Shah's credit card bill payment platform...\n",
              "2  New Zealand end Rohit Sharma-led India's 12-ma...  New Zealand defeated India by 8 wickets in the...\n",
              "3  Aegon life iTerm insurance plan helps customer...  With Aegon Life iTerm Insurance plan, customer...\n",
              "4  Have known Hirani for yrs, what if MeToo claim...  Speaking about the sexual harassment allegatio..."
            ]
          },
          "metadata": {
            "tags": []
          },
          "execution_count": 8
        }
      ]
    },
    {
      "cell_type": "code",
      "metadata": {
        "colab": {
          "base_uri": "https://localhost:8080/"
        },
        "id": "-uGYeK084zt9",
        "outputId": "ff74341a-2468-412f-dfd5-8c362179393a"
      },
      "source": [
        "data.info()"
      ],
      "execution_count": 9,
      "outputs": [
        {
          "output_type": "stream",
          "text": [
            "<class 'pandas.core.frame.DataFrame'>\n",
            "RangeIndex: 98401 entries, 0 to 98400\n",
            "Data columns (total 2 columns):\n",
            " #   Column     Non-Null Count  Dtype \n",
            "---  ------     --------------  ----- \n",
            " 0   headlines  98401 non-null  object\n",
            " 1   text       98401 non-null  object\n",
            "dtypes: object(2)\n",
            "memory usage: 1.5+ MB\n"
          ],
          "name": "stdout"
        }
      ]
    },
    {
      "cell_type": "code",
      "metadata": {
        "colab": {
          "base_uri": "https://localhost:8080/",
          "height": 49
        },
        "id": "t08Wwvnz41yc",
        "outputId": "a1743f36-e44b-45f9-c510-5dada32076b7"
      },
      "source": [
        "data.drop_duplicates(inplace=True)\r\n",
        "data.dropna(inplace=True)\r\n",
        "data[(data['headlines'].apply(len) == 0) | (data['headlines'].apply(len) == 0)]"
      ],
      "execution_count": 10,
      "outputs": [
        {
          "output_type": "execute_result",
          "data": {
            "text/html": [
              "<div>\n",
              "<style scoped>\n",
              "    .dataframe tbody tr th:only-of-type {\n",
              "        vertical-align: middle;\n",
              "    }\n",
              "\n",
              "    .dataframe tbody tr th {\n",
              "        vertical-align: top;\n",
              "    }\n",
              "\n",
              "    .dataframe thead th {\n",
              "        text-align: right;\n",
              "    }\n",
              "</style>\n",
              "<table border=\"1\" class=\"dataframe\">\n",
              "  <thead>\n",
              "    <tr style=\"text-align: right;\">\n",
              "      <th></th>\n",
              "      <th>headlines</th>\n",
              "      <th>text</th>\n",
              "    </tr>\n",
              "  </thead>\n",
              "  <tbody>\n",
              "  </tbody>\n",
              "</table>\n",
              "</div>"
            ],
            "text/plain": [
              "Empty DataFrame\n",
              "Columns: [headlines, text]\n",
              "Index: []"
            ]
          },
          "metadata": {
            "tags": []
          },
          "execution_count": 10
        }
      ]
    },
    {
      "cell_type": "markdown",
      "metadata": {
        "id": "HDacyzQU5HDO"
      },
      "source": [
        "Splitting data into training, validation and testing set"
      ]
    },
    {
      "cell_type": "code",
      "metadata": {
        "colab": {
          "base_uri": "https://localhost:8080/"
        },
        "id": "6OHWp_u445nz",
        "outputId": "d49a45d5-1e2d-4e15-cea9-9f8231735660"
      },
      "source": [
        "train_X, other_X, train_y, other_y = train_test_split(data['text'], data['headlines'], test_size=0.2, shuffle=True)\r\n",
        "val_X, test_X, val_y, test_y = train_test_split(data['text'], data['headlines'], test_size=0.5, shuffle=True)\r\n",
        "print(f\"\"\"\r\n",
        "Shape of train data : {train_X.shape}\r\n",
        "Shape of val data : {val_X.shape}\r\n",
        "Shape of test data : {test_X.shape}\r\n",
        "\"\"\")"
      ],
      "execution_count": 11,
      "outputs": [
        {
          "output_type": "stream",
          "text": [
            "\n",
            "Shape of train data : (78703,)\n",
            "Shape of val data : (49189,)\n",
            "Shape of test data : (49190,)\n",
            "\n"
          ],
          "name": "stdout"
        }
      ]
    },
    {
      "cell_type": "markdown",
      "metadata": {
        "id": "FrecTFKe5Mll"
      },
      "source": [
        "Saving the splitted data into CSV's for easy reuse:"
      ]
    },
    {
      "cell_type": "code",
      "metadata": {
        "id": "Jn42PWt64898"
      },
      "source": [
        "pd.concat([train_X,train_y],axis=1).to_csv(r'/content/drive/MyDrive/ColabNotebooks/BigDataProject/compendium-master/application/model/data/train.csv.csv', header=False, index=False)\r\n",
        "pd.concat([val_X,val_y],axis=1).to_csv(r'/content/drive/MyDrive/ColabNotebooks/BigDataProject/compendium-master/application/model/data/val.csv', header=False, index=False)\r\n",
        "pd.concat([test_X,test_y],axis=1).to_csv(r'/content/drive/MyDrive/ColabNotebooks/BigDataProject/compendium-master/application/model/data/test.csv', header=False, index=False)"
      ],
      "execution_count": 12,
      "outputs": []
    },
    {
      "cell_type": "code",
      "metadata": {
        "colab": {
          "base_uri": "https://localhost:8080/",
          "height": 419
        },
        "id": "AymWdM0y5BZb",
        "outputId": "86bb408a-be03-46c2-c301-87c458f3a19f"
      },
      "source": [
        "#checking training set\r\n",
        "pd.concat([train_X,train_y],axis=1)"
      ],
      "execution_count": 13,
      "outputs": [
        {
          "output_type": "execute_result",
          "data": {
            "text/html": [
              "<div>\n",
              "<style scoped>\n",
              "    .dataframe tbody tr th:only-of-type {\n",
              "        vertical-align: middle;\n",
              "    }\n",
              "\n",
              "    .dataframe tbody tr th {\n",
              "        vertical-align: top;\n",
              "    }\n",
              "\n",
              "    .dataframe thead th {\n",
              "        text-align: right;\n",
              "    }\n",
              "</style>\n",
              "<table border=\"1\" class=\"dataframe\">\n",
              "  <thead>\n",
              "    <tr style=\"text-align: right;\">\n",
              "      <th></th>\n",
              "      <th>text</th>\n",
              "      <th>headlines</th>\n",
              "    </tr>\n",
              "  </thead>\n",
              "  <tbody>\n",
              "    <tr>\n",
              "      <th>79440</th>\n",
              "      <td>University of Mumbai (MU) hopes to declare the...</td>\n",
              "      <td>Mumbai University results to be out by August ...</td>\n",
              "    </tr>\n",
              "    <tr>\n",
              "      <th>4167</th>\n",
              "      <td>Former Uttar Pradesh CM Akhilesh Yadav on Sund...</td>\n",
              "      <td>Ghazipur stone-pelting 'failure of administrat...</td>\n",
              "    </tr>\n",
              "    <tr>\n",
              "      <th>64116</th>\n",
              "      <td>There is growing evidence that people who eat ...</td>\n",
              "      <td>Low intake of fruits &amp; veggies can make you fe...</td>\n",
              "    </tr>\n",
              "    <tr>\n",
              "      <th>28910</th>\n",
              "      <td>Reminding the fans to support the Indian women...</td>\n",
              "      <td>Feeling the void after IPL? We're playing Asia...</td>\n",
              "    </tr>\n",
              "    <tr>\n",
              "      <th>77017</th>\n",
              "      <td>The Delhi Pradesh Congress Committee organised...</td>\n",
              "      <td>Delhi Congress protests against attack on Rahu...</td>\n",
              "    </tr>\n",
              "    <tr>\n",
              "      <th>...</th>\n",
              "      <td>...</td>\n",
              "      <td>...</td>\n",
              "    </tr>\n",
              "    <tr>\n",
              "      <th>60228</th>\n",
              "      <td>The BCCI has changed the start timings of the ...</td>\n",
              "      <td>Start time of first 2 ODIs vs SL changed owing...</td>\n",
              "    </tr>\n",
              "    <tr>\n",
              "      <th>50595</th>\n",
              "      <td>India beat Bangladesh by 131 runs to remain un...</td>\n",
              "      <td>India reach U-19 World Cup semi-finals, will f...</td>\n",
              "    </tr>\n",
              "    <tr>\n",
              "      <th>5291</th>\n",
              "      <td>The Bombay High Court has dismissed a petition...</td>\n",
              "      <td>Activist's plea to quash FIR in Bhima-Koregaon...</td>\n",
              "    </tr>\n",
              "    <tr>\n",
              "      <th>94871</th>\n",
              "      <td>Asserting that Buddhists were neither vegetari...</td>\n",
              "      <td>Fine to eat dead animals, not those slaughtere...</td>\n",
              "    </tr>\n",
              "    <tr>\n",
              "      <th>90118</th>\n",
              "      <td>Pope Francis on Saturday criticised the naming...</td>\n",
              "      <td>'Mother' should not be used to describe a bomb...</td>\n",
              "    </tr>\n",
              "  </tbody>\n",
              "</table>\n",
              "<p>78703 rows × 2 columns</p>\n",
              "</div>"
            ],
            "text/plain": [
              "                                                    text                                          headlines\n",
              "79440  University of Mumbai (MU) hopes to declare the...  Mumbai University results to be out by August ...\n",
              "4167   Former Uttar Pradesh CM Akhilesh Yadav on Sund...  Ghazipur stone-pelting 'failure of administrat...\n",
              "64116  There is growing evidence that people who eat ...  Low intake of fruits & veggies can make you fe...\n",
              "28910  Reminding the fans to support the Indian women...  Feeling the void after IPL? We're playing Asia...\n",
              "77017  The Delhi Pradesh Congress Committee organised...  Delhi Congress protests against attack on Rahu...\n",
              "...                                                  ...                                                ...\n",
              "60228  The BCCI has changed the start timings of the ...  Start time of first 2 ODIs vs SL changed owing...\n",
              "50595  India beat Bangladesh by 131 runs to remain un...  India reach U-19 World Cup semi-finals, will f...\n",
              "5291   The Bombay High Court has dismissed a petition...  Activist's plea to quash FIR in Bhima-Koregaon...\n",
              "94871  Asserting that Buddhists were neither vegetari...  Fine to eat dead animals, not those slaughtere...\n",
              "90118  Pope Francis on Saturday criticised the naming...  'Mother' should not be used to describe a bomb...\n",
              "\n",
              "[78703 rows x 2 columns]"
            ]
          },
          "metadata": {
            "tags": []
          },
          "execution_count": 13
        }
      ]
    },
    {
      "cell_type": "markdown",
      "metadata": {
        "id": "9VStEtZW6GAG"
      },
      "source": [
        "MODEL:"
      ]
    },
    {
      "cell_type": "code",
      "metadata": {
        "id": "KomZiVigiwpP"
      },
      "source": [
        "#import required libraries\n",
        "import math\n",
        "import dill\n",
        "\n",
        "import spacy\n",
        "import seaborn as sns\n",
        "import matplotlib.ticker as ticker\n",
        "\n",
        "import torch\n",
        "from torch import nn\n",
        "from torch import optim\n",
        "import torch.nn.functional as F\n",
        "\n",
        "from torchtext.datasets import TranslationDataset\n",
        "from torchtext.data import Field, BucketIterator, TabularDataset\n",
        "\n",
        "import time\n",
        "import random\n",
        "\n",
        "from helper import *\n",
        "\n",
        "#setting device to cuda if gpu is available\n",
        "device = torch.device('cuda' if torch.cuda.is_available() else 'cpu')"
      ],
      "execution_count": 14,
      "outputs": []
    },
    {
      "cell_type": "markdown",
      "metadata": {
        "id": "viQnAO2TiwpP"
      },
      "source": [
        "### Torchtext Field\n",
        "Initializing fields for our source and target feature using:\n",
        "1. spacy tokenizer for word tokenization. \n",
        "2. definining start and end of string token `<sos>` & `<eos>` respectively. \n",
        "3. packing of inputs."
      ]
    },
    {
      "cell_type": "code",
      "metadata": {
        "id": "WnnH1Mv-iwpP"
      },
      "source": [
        "ARTICLE = Field(tokenize='spacy',\n",
        "                init_token='<sos>',\n",
        "                eos_token='<eos>',\n",
        "                lower=True,\n",
        "                include_lengths=True\n",
        "                )\n",
        "SUMMARY = Field(tokenize='spacy',\n",
        "                init_token='<sos>',\n",
        "                eos_token='<eos>',\n",
        "                lower=True,\n",
        "                )"
      ],
      "execution_count": 15,
      "outputs": []
    },
    {
      "cell_type": "markdown",
      "metadata": {
        "id": "6txTACx0iwpQ"
      },
      "source": [
        "### Loading the dataset\n",
        "Using TabularDataset for loading train, test and validation dataset."
      ]
    },
    {
      "cell_type": "code",
      "metadata": {
        "id": "KIbLh_qZiwpQ"
      },
      "source": [
        "#load train, test, val data\n",
        "train_data, valid_data, test_data = TabularDataset.splits(\n",
        "                                                    path=r'/content/drive/MyDrive/ColabNotebooks/BigDataProject/compendium-master/application/model/data/',\n",
        "                                                    train='train.csv',\n",
        "                                                    validation='val.csv',\n",
        "                                                    test='test.csv', \n",
        "                                                    format='csv',\n",
        "                                                    fields=[(\"text\",ARTICLE),('headline',SUMMARY)]\n",
        "                                                        )"
      ],
      "execution_count": 16,
      "outputs": []
    },
    {
      "cell_type": "code",
      "metadata": {
        "id": "cx6wQ9EyiwpQ"
      },
      "source": [
        "#setting up vocabulary for the article and summary from training data.\n",
        "ARTICLE.build_vocab(train_data, min_freq=2)\n",
        "SUMMARY.build_vocab(train_data, min_freq=2)"
      ],
      "execution_count": 17,
      "outputs": []
    },
    {
      "cell_type": "markdown",
      "metadata": {
        "id": "6lJl6yBLiwpQ"
      },
      "source": [
        "### Checkpoint I\n",
        "Saving article and summary Field for further use."
      ]
    },
    {
      "cell_type": "code",
      "metadata": {
        "id": "qDjG_VcSiwpR"
      },
      "source": [
        "#Saving the article and summary field into Article and Summary files for easy loading\n",
        "with open(r'/content/drive/MyDrive/ColabNotebooks/BigDataProject/compendium-master/application/model/brain/ARTICLE.Field',\"wb\")as f:\n",
        "     dill.dump(ARTICLE,f)\n",
        "with open(r'/content/drive/MyDrive/ColabNotebooks/BigDataProject/compendium-master/application/model/brain/SUMMARY.Field',\"wb\")as f:\n",
        "     dill.dump(SUMMARY,f)"
      ],
      "execution_count": 18,
      "outputs": []
    },
    {
      "cell_type": "markdown",
      "metadata": {
        "id": "Sp1GlK0MiwpR"
      },
      "source": [
        "### DataIterator\n",
        "Setting dataloaders using BucketIterator as it groups data such that minimum padding is required."
      ]
    },
    {
      "cell_type": "code",
      "metadata": {
        "id": "0d3FY4lMiwpR"
      },
      "source": [
        "#Creating training, validation, and testing loaders\n",
        "BATCH_SIZE = 128\n",
        "\n",
        "train_loader, valid_loader, test_loader = BucketIterator.splits(\n",
        "                                                            (train_data, valid_data, test_data),\n",
        "                                                            batch_size=BATCH_SIZE,\n",
        "                                                            sort_within_batch=True,\n",
        "                                                            sort_key = lambda x:len(x.text),\n",
        "                                                            device=device\n",
        "                                                                )"
      ],
      "execution_count": 19,
      "outputs": []
    },
    {
      "cell_type": "markdown",
      "metadata": {
        "id": "D81ChSMjiwpR"
      },
      "source": [
        "## Model\n",
        "Creating encoder decoder based seq2seq model with Attention. \n",
        "1. The input to the model is a seqeunce of text ie. Article, and it passes it through encoder to produce a list of hidden states in each time step. \n",
        "2. The list of all the hidden states will be input to the decoder along with token `<sos>`.\n",
        "3. The attention mechanism will take the current decoder hidden state along with a list of encoder hidden states and calculates attention score while creating context vector based on the score.\n",
        "4. The context vector generated and the ouput of decoder gru will be concatenated and passed to a fully contected feed forward layer to generate the ouput.\n",
        "5. The steps 2, 3, 4 will be repeated until either maximum length set is reached or `<eos>` is predicted."
      ]
    },
    {
      "cell_type": "markdown",
      "metadata": {
        "id": "IRhzRSTZiwpR"
      },
      "source": [
        "### Encoder\n",
        "Passing seqeunce of string to bidirectional GRU to encode it into vectors."
      ]
    },
    {
      "cell_type": "code",
      "metadata": {
        "id": "turc6VzCiwpS"
      },
      "source": [
        "#Encoder class, encodes article to vector\n",
        "\n",
        "class Encoder(nn.Module):\n",
        "    \n",
        "    \n",
        "    def __init__(self, vocab, embeding_dim, encoder_hidden_dim, decoder_hidden_dim, dropout):\n",
        "        super().__init__()\n",
        "        \n",
        "        self.embedding = nn.Embedding(vocab, embeding_dim)\n",
        "        self.gru = nn.GRU(embeding_dim, encoder_hidden_dim, bidirectional = True)\n",
        "        self.fc = nn.Linear(encoder_hidden_dim*2, decoder_hidden_dim)\n",
        "        \n",
        "        self.dropout = nn.Dropout(p=dropout)\n",
        "   \n",
        "\n",
        "    def forward(self, text, text_len):\n",
        "        embedded = self.dropout(self.embedding(text))\n",
        "        packed_embedded = nn.utils.rnn.pack_padded_sequence(embedded, text_len.cpu())\n",
        "        packed_outputs, hidden = self.gru(packed_embedded) \n",
        "        outputs, _ = nn.utils.rnn.pad_packed_sequence(packed_outputs)\n",
        "        hidden = torch.tanh(self.fc(torch.cat((hidden[-2,:,:], hidden[-1,:,:]), dim = 1)))\n",
        "        \n",
        "        return outputs, hidden"
      ],
      "execution_count": 20,
      "outputs": []
    },
    {
      "cell_type": "markdown",
      "metadata": {
        "id": "SwgHWdUoiwpS"
      },
      "source": [
        "### Attention Mechanism\n",
        "Takes encoder hidden layer and decoder hidden layer as input, scores it and return context vector as the output."
      ]
    },
    {
      "cell_type": "code",
      "metadata": {
        "id": "CgX6t03eiwpS"
      },
      "source": [
        "# Attention machanism to take encoder hidden states and current decoder state and generate context vector\n",
        "class Attention(nn.Module):\n",
        "    \n",
        "    \n",
        "    def __init__(self, enc_hid_dim, dec_hid_dim ):\n",
        "        super().__init__()\n",
        "        self.attn = nn.Linear((enc_hid_dim * 2) + dec_hid_dim, dec_hid_dim)\n",
        "        self.v = nn.Linear(dec_hid_dim, 1, bias = False)\n",
        "    \n",
        "\n",
        "    def forward(self, hidden, encoder_outputs, mask):      \n",
        "        batch_size = encoder_outputs.shape[1]\n",
        "        src_len = encoder_outputs.shape[0]\n",
        "        \n",
        "        hidden = hidden.unsqueeze(1).repeat(1, src_len, 1)        \n",
        "        encoder_outputs = encoder_outputs.permute(1, 0, 2)\n",
        "        \n",
        "        energy = torch.tanh(self.attn(torch.cat((hidden, encoder_outputs), dim = 2))) \n",
        "        \n",
        "        attention = self.v(energy).squeeze(2)\n",
        "        attention = attention.masked_fill(mask == 0, -1e10)\n",
        "        \n",
        "        return F.softmax(attention, dim = 1)"
      ],
      "execution_count": 21,
      "outputs": []
    },
    {
      "cell_type": "markdown",
      "metadata": {
        "id": "3uzEztf3iwpS"
      },
      "source": [
        "### Decoder\n",
        "Decoder takes all the encoder hidden states and (t-1) input and predicts the next word in the sequence as output using attention mechanism."
      ]
    },
    {
      "cell_type": "code",
      "metadata": {
        "id": "sLlRq4tTiwpT"
      },
      "source": [
        "class Decoder(nn.Module):\n",
        "    def __init__(self, output_dim, emb_dim, enc_hid_dim, dec_hid_dim, dropout, attention):\n",
        "        super().__init__()\n",
        "        \n",
        "        self.output_dim = output_dim\n",
        "        self.attention = attention\n",
        "        \n",
        "        self.embedding = nn.Embedding(output_dim, emb_dim)        \n",
        "        self.gru = nn.GRU((enc_hid_dim * 2) + emb_dim, dec_hid_dim)\n",
        "        self.fc_out = nn.Linear((enc_hid_dim * 2) + dec_hid_dim + emb_dim, output_dim)        \n",
        "        \n",
        "        self.dropout = nn.Dropout(dropout)\n",
        "        \n",
        "    def forward(self, input_, hidden, encoder_outputs, mask):\n",
        "    \n",
        "        input_ = input_.unsqueeze(0)\n",
        "        embedded = self.dropout(self.embedding(input_))\n",
        "\n",
        "        atten = self.attention(hidden, encoder_outputs, mask)        \n",
        "        atten = atten.unsqueeze(1)\n",
        "        \n",
        "        encoder_outputs = encoder_outputs.permute(1, 0, 2)\n",
        "        weighted = torch.bmm(atten, encoder_outputs)\n",
        "        \n",
        "        weighted = weighted.permute(1, 0, 2)        \n",
        "        gru_input_ = torch.cat((embedded, weighted), dim = 2)\n",
        "            \n",
        "        output, hidden = self.gru(gru_input_, hidden.unsqueeze(0))\n",
        "              \n",
        "        embedded = embedded.squeeze(0)\n",
        "        output = output.squeeze(0)\n",
        "        weighted = weighted.squeeze(0)\n",
        "        \n",
        "        prediction = self.fc_out(torch.cat((output, weighted, embedded), dim = 1))\n",
        "        \n",
        "        return prediction, hidden.squeeze(0), atten.squeeze(1)"
      ],
      "execution_count": 22,
      "outputs": []
    },
    {
      "cell_type": "markdown",
      "metadata": {
        "id": "wn5IBjjbiwpT"
      },
      "source": [
        "### Seq2Seq Model\n",
        "Encapsulating Encoder Decor model."
      ]
    },
    {
      "cell_type": "code",
      "metadata": {
        "id": "iVb2rtbYiwpT"
      },
      "source": [
        "class Seq2Seq(nn.Module):\n",
        "    def __init__(self, encoder, decoder, text_pad_idx, device):\n",
        "        super().__init__()\n",
        "        \n",
        "        self.encoder = encoder\n",
        "        self.decoder = decoder\n",
        "        self.text_pad_idx = text_pad_idx\n",
        "        self.device = device\n",
        "        \n",
        "    def create_mask(self, text):\n",
        "        mask = (text != self.text_pad_idx).permute(1, 0)\n",
        "        return mask\n",
        "        \n",
        "    def forward(self, text, text_len, headline, teacher_forcing_ratio = 0.5):\n",
        "        batch_size = text.shape[1]\n",
        "        headline_length = headline.shape[0]\n",
        "        headline_vocab_size = self.decoder.output_dim\n",
        "\n",
        "        outputs = torch.zeros(headline_length, batch_size, headline_vocab_size).to(self.device)\n",
        "      \n",
        "        encoder_outputs, hidden = self.encoder(text, text_len)\n",
        "       \n",
        "        input_ = headline[0,:]\n",
        "        \n",
        "        mask = self.create_mask(text)\n",
        "                \n",
        "        for t in range(1, headline_length):\n",
        "            \n",
        "            output, hidden, _ = self.decoder(input_, hidden, encoder_outputs, mask)           \n",
        "            outputs[t] = output\n",
        "            teacher_force = random.random() < teacher_forcing_ratio            \n",
        "            top_first = output.argmax(1)             \n",
        "            input_ = headline[t] if teacher_force else top_first\n",
        "            \n",
        "        return outputs"
      ],
      "execution_count": 23,
      "outputs": []
    },
    {
      "cell_type": "markdown",
      "metadata": {
        "id": "SoEnOs63iwpU"
      },
      "source": [
        "Loading saved article and summary fields. "
      ]
    },
    {
      "cell_type": "code",
      "metadata": {
        "id": "b0QuUuYniwpU"
      },
      "source": [
        "#only run in case of new or kernal restart\n",
        "\n",
        "with open(r'/content/drive/MyDrive/ColabNotebooks/BigDataProject/compendium-master/application/model/brain/ARTICLE.Field',\"rb\")as f:\n",
        "     ARTICLE=dill.load(f)\n",
        "with open(r'/content/drive/MyDrive/ColabNotebooks/BigDataProject/compendium-master/application/model/brain/SUMMARY.Field',\"rb\")as f:\n",
        "     SUMMARY=dill.load(f)"
      ],
      "execution_count": 24,
      "outputs": []
    },
    {
      "cell_type": "markdown",
      "metadata": {
        "id": "AkWheoOKiwpU"
      },
      "source": [
        "### Model Initialization \n",
        "Initializing model with parameters "
      ]
    },
    {
      "cell_type": "code",
      "metadata": {
        "id": "jv648kyxiwpU"
      },
      "source": [
        "# model parameters, dimension kept less due to memory issue.\n",
        "\n",
        "INPUT_DIM = len(ARTICLE.vocab)\n",
        "OUTPUT_DIM = len(SUMMARY.vocab)\n",
        "ENC_EMB_DIM = 256\n",
        "DEC_EMB_DIM = 256\n",
        "ENC_HID_DIM = 512\n",
        "DEC_HID_DIM = 512\n",
        "ENC_DROPOUT = 0.5\n",
        "DEC_DROPOUT = 0.5\n",
        "ARTICLE_PAD_IDX = ARTICLE.vocab.stoi[ARTICLE.pad_token]\n",
        "\n",
        "attn = Attention(ENC_HID_DIM, DEC_HID_DIM)\n",
        "enc = Encoder(INPUT_DIM, ENC_EMB_DIM, ENC_HID_DIM, DEC_HID_DIM, ENC_DROPOUT)\n",
        "dec = Decoder(OUTPUT_DIM, DEC_EMB_DIM, ENC_HID_DIM, DEC_HID_DIM, DEC_DROPOUT, attn)\n",
        "\n",
        "model = Seq2Seq(enc, dec, ARTICLE_PAD_IDX, device).to(device)"
      ],
      "execution_count": 25,
      "outputs": []
    },
    {
      "cell_type": "code",
      "metadata": {
        "colab": {
          "base_uri": "https://localhost:8080/"
        },
        "id": "BvrCJSVWiwpU",
        "scrolled": true,
        "outputId": "4b0a3ef4-0519-4c6c-a393-d2b88cd62920"
      },
      "source": [
        "print(model)"
      ],
      "execution_count": 26,
      "outputs": [
        {
          "output_type": "stream",
          "text": [
            "Seq2Seq(\n",
            "  (encoder): Encoder(\n",
            "    (embedding): Embedding(50618, 256)\n",
            "    (gru): GRU(256, 512, bidirectional=True)\n",
            "    (fc): Linear(in_features=1024, out_features=512, bias=True)\n",
            "    (dropout): Dropout(p=0.5, inplace=False)\n",
            "  )\n",
            "  (decoder): Decoder(\n",
            "    (attention): Attention(\n",
            "      (attn): Linear(in_features=1536, out_features=512, bias=True)\n",
            "      (v): Linear(in_features=512, out_features=1, bias=False)\n",
            "    )\n",
            "    (embedding): Embedding(21438, 256)\n",
            "    (gru): GRU(1280, 512)\n",
            "    (fc_out): Linear(in_features=1792, out_features=21438, bias=True)\n",
            "    (dropout): Dropout(p=0.5, inplace=False)\n",
            "  )\n",
            ")\n"
          ],
          "name": "stdout"
        }
      ]
    },
    {
      "cell_type": "markdown",
      "metadata": {
        "id": "llyW7YGSiwpV"
      },
      "source": [
        "###  Optimizer and Cost Function"
      ]
    },
    {
      "cell_type": "code",
      "metadata": {
        "id": "j9ZvsZ3iiwpV"
      },
      "source": [
        "#setting up optimizer for training model\n",
        "\n",
        "optimizer = optim.Adam(model.parameters())"
      ],
      "execution_count": 27,
      "outputs": []
    },
    {
      "cell_type": "code",
      "metadata": {
        "id": "G77SC1_ViwpV"
      },
      "source": [
        "#setting up loss function and ignoring pad index\n",
        "\n",
        "SUMMARY_PAD_IDX = SUMMARY.vocab.stoi[SUMMARY.pad_token]\n",
        "\n",
        "criterion = nn.CrossEntropyLoss(ignore_index = SUMMARY_PAD_IDX)"
      ],
      "execution_count": 28,
      "outputs": []
    },
    {
      "cell_type": "markdown",
      "metadata": {
        "id": "mzcHJgbSiwpV"
      },
      "source": [
        "#### Training and Evalution functions"
      ]
    },
    {
      "cell_type": "code",
      "metadata": {
        "id": "mvgPe_KxeYxW"
      },
      "source": [
        "import matplotlib\r\n",
        "def showPlot(points):\r\n",
        "    plt.figure()\r\n",
        "    fig, ax = plt.subplots()\r\n",
        "    # this locator puts ticks at regular intervals\r\n",
        "    loc = ticker.MultipleLocator(base=0.2)\r\n",
        "    ax.yaxis.set_major_locator(loc)\r\n",
        "    plt.plot(points)"
      ],
      "execution_count": 29,
      "outputs": []
    },
    {
      "cell_type": "code",
      "metadata": {
        "id": "ZNTWUarNiwpV"
      },
      "source": [
        "#function to train model\n",
        "def train(model, iterator, optimizer, criterion, clip):\n",
        "    \n",
        "    model.train()\n",
        "    \n",
        "    epoch_loss = 0\n",
        "    plot_losses = []\n",
        "    plot_loss_total = 0  # Reset every plot_every\n",
        "\n",
        "    \n",
        "    for i, batch in enumerate(iterator):\n",
        "        \n",
        "        text, text_len = batch.text\n",
        "        headline = batch.headline\n",
        "        optimizer.zero_grad()\n",
        "        output = model(text, text_len, headline)\n",
        "        output_dim = output.shape[-1]\n",
        "        output = output[1:].view(-1, output_dim)\n",
        "        headline = headline[1:].view(-1)\n",
        "        loss = criterion(output, headline)\n",
        "        loss.backward()\n",
        "        torch.nn.utils.clip_grad_norm_(model.parameters(), clip)\n",
        "        optimizer.step()\n",
        "        epoch_loss += loss.item()\n",
        "        # if i % 1000 == 0:\n",
        "        #     plot_loss_avg = epoch_loss / 100\n",
        "        #     plot_losses.append(plot_loss_avg)\n",
        "        #     plot_loss_total = 0\n",
        "        \n",
        "    return epoch_loss / len(iterator)"
      ],
      "execution_count": 30,
      "outputs": []
    },
    {
      "cell_type": "code",
      "metadata": {
        "id": "75iBUmloiwpW"
      },
      "source": [
        "#function to return validation loss\n",
        "def evaluate(model, iterator, criterion):\n",
        "    \n",
        "    model.eval()\n",
        "    epoch_loss = 0\n",
        "    with torch.no_grad():\n",
        "        for i, batch in enumerate(iterator):\n",
        "\n",
        "            text, text_len = batch.text\n",
        "            headline = batch.headline\n",
        "            output = model(text, text_len, headline, 0) #turn off teacher forcing\n",
        "            output_dim = output.shape[-1]\n",
        "            output = output[1:].view(-1, output_dim)\n",
        "            headline = headline[1:].view(-1)\n",
        "            loss = criterion(output, headline)\n",
        "            epoch_loss += loss.item()\n",
        "        \n",
        "    return epoch_loss / len(iterator)"
      ],
      "execution_count": 31,
      "outputs": []
    },
    {
      "cell_type": "markdown",
      "metadata": {
        "id": "j_yV3CfuiwpW"
      },
      "source": [
        "#### Training Model\n",
        "Model trainig and saving the best fitted model"
      ]
    },
    {
      "cell_type": "code",
      "metadata": {
        "id": "rxgxzkh_iwpW",
        "colab": {
          "base_uri": "https://localhost:8080/"
        },
        "outputId": "8beb1ff5-fd88-459c-e51c-41b5a28f1757"
      },
      "source": [
        "# trainig model\n",
        "\n",
        "N_EPOCHS = 24\n",
        "CLIP = 1\n",
        "\n",
        "best_valid_loss = float('inf')\n",
        "\n",
        "for epoch in range(N_EPOCHS):\n",
        "    \n",
        "    start_time = time.time()\n",
        "    \n",
        "    train_loss = train(model, train_loader, optimizer, criterion, CLIP)\n",
        "    valid_loss = evaluate(model, valid_loader, criterion)\n",
        "    \n",
        "    end_time = time.time()\n",
        "    \n",
        "    #epoch_mins, epoch_secs = epoch_time(start_time, end_time)\n",
        "    \n",
        "    if valid_loss < best_valid_loss:\n",
        "        best_valid_loss = valid_loss\n",
        "        torch.save(model.state_dict(), r'/content/drive/MyDrive/ColabNotebooks/BigDataProject/compendium-master/application/model/model.brain')\n",
        "    \n",
        "    print(f'Epoch: {epoch+1:2}')\n",
        "    print(f'\\tTrain Loss: {train_loss:.3f} | Train PPL: {math.exp(train_loss):7.3f}')\n",
        "    print(f'\\t Val. Loss: {valid_loss:.3f} |  Val. PPL: {math.exp(valid_loss):7.3f}')"
      ],
      "execution_count": 32,
      "outputs": [
        {
          "output_type": "stream",
          "text": [
            "Epoch:  1\n",
            "\tTrain Loss: 6.290 | Train PPL: 539.045\n",
            "\t Val. Loss: 5.226 |  Val. PPL: 185.989\n",
            "Epoch:  2\n",
            "\tTrain Loss: 4.924 | Train PPL: 137.570\n",
            "\t Val. Loss: 4.401 |  Val. PPL:  81.508\n",
            "Epoch:  3\n",
            "\tTrain Loss: 4.231 | Train PPL:  68.802\n",
            "\t Val. Loss: 4.014 |  Val. PPL:  55.389\n",
            "Epoch:  4\n",
            "\tTrain Loss: 3.762 | Train PPL:  43.041\n",
            "\t Val. Loss: 3.835 |  Val. PPL:  46.289\n",
            "Epoch:  5\n",
            "\tTrain Loss: 3.461 | Train PPL:  31.834\n",
            "\t Val. Loss: 3.705 |  Val. PPL:  40.648\n",
            "Epoch:  6\n",
            "\tTrain Loss: 3.258 | Train PPL:  25.988\n",
            "\t Val. Loss: 3.646 |  Val. PPL:  38.327\n",
            "Epoch:  7\n",
            "\tTrain Loss: 3.113 | Train PPL:  22.483\n",
            "\t Val. Loss: 3.574 |  Val. PPL:  35.641\n",
            "Epoch:  8\n",
            "\tTrain Loss: 3.003 | Train PPL:  20.143\n",
            "\t Val. Loss: 3.534 |  Val. PPL:  34.258\n",
            "Epoch:  9\n",
            "\tTrain Loss: 2.883 | Train PPL:  17.872\n",
            "\t Val. Loss: 3.490 |  Val. PPL:  32.784\n",
            "Epoch: 10\n",
            "\tTrain Loss: 2.819 | Train PPL:  16.762\n",
            "\t Val. Loss: 3.458 |  Val. PPL:  31.769\n",
            "Epoch: 11\n",
            "\tTrain Loss: 2.745 | Train PPL:  15.570\n",
            "\t Val. Loss: 3.419 |  Val. PPL:  30.536\n",
            "Epoch: 12\n",
            "\tTrain Loss: 2.676 | Train PPL:  14.534\n",
            "\t Val. Loss: 3.404 |  Val. PPL:  30.089\n",
            "Epoch: 13\n",
            "\tTrain Loss: 2.608 | Train PPL:  13.572\n",
            "\t Val. Loss: 3.380 |  Val. PPL:  29.385\n",
            "Epoch: 14\n",
            "\tTrain Loss: 2.558 | Train PPL:  12.904\n",
            "\t Val. Loss: 3.374 |  Val. PPL:  29.183\n",
            "Epoch: 15\n",
            "\tTrain Loss: 2.521 | Train PPL:  12.446\n",
            "\t Val. Loss: 3.344 |  Val. PPL:  28.339\n",
            "Epoch: 16\n",
            "\tTrain Loss: 2.472 | Train PPL:  11.844\n",
            "\t Val. Loss: 3.321 |  Val. PPL:  27.680\n",
            "Epoch: 17\n",
            "\tTrain Loss: 2.446 | Train PPL:  11.545\n",
            "\t Val. Loss: 3.313 |  Val. PPL:  27.480\n",
            "Epoch: 18\n",
            "\tTrain Loss: 2.412 | Train PPL:  11.157\n",
            "\t Val. Loss: 3.318 |  Val. PPL:  27.606\n",
            "Epoch: 19\n",
            "\tTrain Loss: 2.389 | Train PPL:  10.906\n",
            "\t Val. Loss: 3.286 |  Val. PPL:  26.732\n",
            "Epoch: 20\n",
            "\tTrain Loss: 2.362 | Train PPL:  10.615\n",
            "\t Val. Loss: 3.267 |  Val. PPL:  26.226\n",
            "Epoch: 21\n",
            "\tTrain Loss: 2.322 | Train PPL:  10.198\n",
            "\t Val. Loss: 3.266 |  Val. PPL:  26.213\n",
            "Epoch: 22\n",
            "\tTrain Loss: 2.302 | Train PPL:   9.993\n",
            "\t Val. Loss: 3.263 |  Val. PPL:  26.134\n",
            "Epoch: 23\n",
            "\tTrain Loss: 2.283 | Train PPL:   9.801\n",
            "\t Val. Loss: 3.264 |  Val. PPL:  26.143\n",
            "Epoch: 24\n",
            "\tTrain Loss: 2.264 | Train PPL:   9.618\n",
            "\t Val. Loss: 3.255 |  Val. PPL:  25.929\n"
          ],
          "name": "stdout"
        }
      ]
    },
    {
      "cell_type": "markdown",
      "metadata": {
        "id": "nsDxfhjliwpW"
      },
      "source": [
        "#### Load best fitted model"
      ]
    },
    {
      "cell_type": "code",
      "metadata": {
        "id": "ZJkI7FxLiwpW",
        "colab": {
          "base_uri": "https://localhost:8080/"
        },
        "outputId": "7d644178-efc8-4e8e-b775-fa0221baf63c"
      },
      "source": [
        "#load best fitted model and calculating test loss\n",
        "model.load_state_dict(torch.load(r'/content/drive/MyDrive/ColabNotebooks/BigDataProject/compendium-master/application/model/model.brain', map_location=device))\n",
        "\n",
        "test_loss = evaluate(model, test_loader, criterion)\n",
        "\n",
        "print(f'| Test Loss: {test_loss:.3f} | Test PPL: {math.exp(test_loss):7.3f} |')"
      ],
      "execution_count": 34,
      "outputs": [
        {
          "output_type": "stream",
          "text": [
            "| Test Loss: 3.265 | Test PPL:  26.191 |\n"
          ],
          "name": "stdout"
        }
      ]
    },
    {
      "cell_type": "markdown",
      "metadata": {
        "id": "XY1EUKjjiwpX"
      },
      "source": [
        "## Prediction\n",
        "Predicting  summary along with its attention matrix"
      ]
    },
    {
      "cell_type": "code",
      "metadata": {
        "id": "h7xAdN-yiwpX"
      },
      "source": [
        "#function to dengerate summary from saved model\n",
        "def predict(sentence, source_field, target_field, model, device, max_len = 50):\n",
        "\n",
        "    model.eval()\n",
        "        \n",
        "    if sentence is str:\n",
        "        nlp = spacy.load('en')\n",
        "        tokens = [token.text.lower() for token in nlp(sentence)]\n",
        "    else:\n",
        "        tokens = [token.lower() for token in sentence]\n",
        "\n",
        "    tokens = [source_field.init_token] + tokens + [source_field.eos_token]        \n",
        "    source_indexes = [source_field.vocab.stoi[token] for token in tokens]\n",
        "    \n",
        "    source_tensor = torch.LongTensor(source_indexes).unsqueeze(1).to(device)\n",
        "    source_len = torch.LongTensor([len(source_indexes)]).to(device)\n",
        "    \n",
        "    with torch.no_grad():\n",
        "        encoder_outputs, hidden = model.encoder(source_tensor, source_len)\n",
        "\n",
        "    mask = model.create_mask(source_tensor)        \n",
        "    trg_indexes = [target_field.vocab.stoi[target_field.init_token]]\n",
        "    attentions = torch.zeros(max_len, 1, len(source_indexes)).to(device)\n",
        "    \n",
        "    for i in range(max_len):\n",
        "\n",
        "        trg_tensor = torch.LongTensor([trg_indexes[-1]]).to(device)\n",
        "        \n",
        "        with torch.no_grad():\n",
        "            output, hidden, attention = model.decoder(trg_tensor, hidden, encoder_outputs, mask)\n",
        "\n",
        "        attentions[i] = attention            \n",
        "        pred_token = output.argmax(1).item()        \n",
        "        trg_indexes.append(pred_token)\n",
        "\n",
        "        if pred_token == target_field.vocab.stoi[target_field.eos_token]:\n",
        "            break\n",
        "    \n",
        "    target_tokens = [target_field.vocab.itos[i] for i in trg_indexes]\n",
        "    \n",
        "    return target_tokens[1:], attentions[:len(target_tokens)-1]"
      ],
      "execution_count": 38,
      "outputs": []
    },
    {
      "cell_type": "code",
      "metadata": {
        "id": "9mHDr8FGiwpX"
      },
      "source": [
        "# function to plot attention scores\n",
        "from matplotlib import pyplot as plt\n",
        "\n",
        "def plot_attention(sentence, translation, attention):\n",
        "    \n",
        "    fig = plt.figure(figsize=(30,30))\n",
        "    \n",
        "    attention = attention.squeeze(1).cpu().detach().numpy()\n",
        "    \n",
        "    cax = sns.heatmap(attention,cmap='gray', cbar=False, square=True,\\\n",
        "                     yticklabels=translation,xticklabels=sentence) \n",
        "    cax.set_yticklabels(cax.get_yticklabels(), rotation = 0, fontsize = 20)\n",
        "    cax.set_xticklabels(cax.get_xticklabels(), rotation = 90, fontsize = 20)\n"
      ],
      "execution_count": 36,
      "outputs": []
    },
    {
      "cell_type": "markdown",
      "metadata": {
        "id": "qqy6Jo45iwpX"
      },
      "source": [
        "####  Prdiction for random index"
      ]
    },
    {
      "cell_type": "code",
      "metadata": {
        "id": "dmTu5xYSiwpX",
        "colab": {
          "base_uri": "https://localhost:8080/",
          "height": 402
        },
        "outputId": "544c99d3-1517-4150-c17c-cc7ec031ea3b"
      },
      "source": [
        "#testing\n",
        "example_index = 60\n",
        "\n",
        "bold_start, bold_end = \"\\033[1m\", \"\\033[0;0m\"\n",
        "text = vars(test_data.examples[example_index])['text']\n",
        "headline = vars(test_data.examples[example_index])['headline']\n",
        "\n",
        "print(f'{bold_start}Text{bold_end} = {\" \".join(word for word in text)}\\n')\n",
        "print(f'{bold_start}Headline{bold_end} = {\" \".join(word for word in headline)}\\n')\n",
        "\n",
        "prediction, attention = predict(text, ARTICLE, SUMMARY, model, device)\n",
        "\n",
        "print(f'{bold_start}Predicted Headline{bold_end} = {\" \".join(word for word in prediction)}')\n",
        "print(\"\\n\\t\\t\\t\\t\\t\\t\\tAttention Plot\")\n",
        "plot_attention(text, prediction, attention)"
      ],
      "execution_count": 39,
      "outputs": [
        {
          "output_type": "stream",
          "text": [
            "\u001b[1mText\u001b[0;0m = whatsapp on wednesday announced that it is rolling out a radio campaign across india to fight fake news . the campaign will air on 46 hindi speaking stations of all india radio , across bihar , jharkhand , rajasthan , uttarakhand , chhattisgarh , and others . earlier , the facebook - owned company had also released full - page advertisements in newspapers listing tips to tackle fake news .\n",
            "\n",
            "\u001b[1mHeadline\u001b[0;0m = whatsapp launches radio campaign in india to fight fake news\n",
            "\n",
            "\u001b[1mPredicted Headline\u001b[0;0m = whatsapp launches radio campaign radio campaign fight fight fake news <eos>\n",
            "\n",
            "\t\t\t\t\t\t\tAttention Plot\n"
          ],
          "name": "stdout"
        },
        {
          "output_type": "display_data",
          "data": {
            "image/png": "[encoded data removed]",
            "text/plain": [
              "<Figure size 2160x2160 with 1 Axes>"
            ]
          },
          "metadata": {
            "tags": [],
            "needs_background": "light"
          }
        }
      ]
    },
    {
      "cell_type": "code",
      "metadata": {
        "id": "P6J9PgR2iwpX",
        "colab": {
          "base_uri": "https://localhost:8080/",
          "height": 373
        },
        "outputId": "3d0a8686-4a14-4480-dca5-eb8f1d83c6e2"
      },
      "source": [
        "example_index = 1\n",
        "\n",
        "bold_start, bold_end = \"\\033[1m\", \"\\033[0;0m\"\n",
        "text = vars(test_data.examples[example_index])['text']\n",
        "headline = vars(test_data.examples[example_index])['headline']\n",
        "\n",
        "print(f'{bold_start}Text{bold_end} = {\" \".join(word for word in text)}\\n')\n",
        "print(f'{bold_start}Headline{bold_end} = {\" \".join(word for word in headline)}\\n')\n",
        "\n",
        "prediction, attention = predict(text, ARTICLE, SUMMARY, model, device)\n",
        "\n",
        "print(f'{bold_start}Predicted Headline{bold_end} = {\" \".join(word for word in prediction)}')\n",
        "print(\"\\n\\t\\t\\t\\t\\t\\t\\tAttention Plot\")\n",
        "plot_attention(text, prediction, attention)"
      ],
      "execution_count": 40,
      "outputs": [
        {
          "output_type": "stream",
          "text": [
            "\u001b[1mText\u001b[0;0m = in a first , germany - based scientists have trapped a particle - based microlaser inside an optical cable . the team launched a laser into a hollow - core fibre containing a microparticle , which produced lasers by itself when excited by a second laser . the new laser could deliver precisely positioned light in a patient 's body for use with light - activated drugs , said a researcher .\n",
            "\n",
            "\u001b[1mHeadline\u001b[0;0m = particle - based laser trapped in optical fibre for first time\n",
            "\n",
            "\u001b[1mPredicted Headline\u001b[0;0m = particle particle trapped laser trapped laser - laser trapped <eos>\n",
            "\n",
            "\t\t\t\t\t\t\tAttention Plot\n"
          ],
          "name": "stdout"
        },
        {
          "output_type": "display_data",
          "data": {
            "image/png": "[encoded data removed]",
            "text/plain": [
              "<Figure size 2160x2160 with 1 Axes>"
            ]
          },
          "metadata": {
            "tags": [],
            "needs_background": "light"
          }
        }
      ]
    }
  ]
}